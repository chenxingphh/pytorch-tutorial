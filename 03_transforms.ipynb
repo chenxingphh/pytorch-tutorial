{
 "cells": [
  {
   "cell_type": "code",
   "execution_count": null,
   "metadata": {},
   "outputs": [],
   "source": [
    "'''\n",
    "@Author: Haihui Pan\n",
    "@Date: 2021-11-4\n",
    "@Reference: https://pytorch.org/tutorials/beginner/basics/transforms_tutorial.html\n",
    "'''"
   ]
  },
  {
   "cell_type": "markdown",
   "metadata": {},
   "source": [
    "* 收集到的数据往往不是可以直接用于机器学习模型进行训练，因此我们使用***transform***来对数据进行一些操作使得处理后的数据可以用于训练。\n",
    "\n",
    "\n",
    "* 所有 TorchVision 数据集都有两个参数\n",
    "  * transform：用于修改特征\n",
    "  * target_transform：用于修改标签\n",
    " \n",
    "\n",
    "*  ***torchvision.transforms***提供了许多常用的transform方法"
   ]
  },
  {
   "cell_type": "markdown",
   "metadata": {},
   "source": [
    "## FashionMNIST\n",
    "\n",
    "* FashionMNIST的原始图片格式为PIL图片格式，对应的标签是整数。当用于训练时，需要将原始的图片格式进行归一化并转换为Tensor类型，而标签应该转换为One-hot的形式。为了达到这些转换，我们需要使用ToTensor()和Lambda()。\n",
    "\n",
    "* ToTensor():将PIL图片格式或者Numpy数据类型转换为FloatTensor并且将图片的像素归一化到\\[0,1\\]范围。\n",
    "* Lambda():为匿名函数\n",
    "\n",
    "* Tensor.scatter_(dim, index, src, reduce=None)：将给定的src数值，按照index填入到给定的Tensor中。\n",
    "https://pytorch.org/docs/stable/generated/torch.Tensor.scatter_.html"
   ]
  },
  {
   "cell_type": "code",
   "execution_count": 1,
   "metadata": {},
   "outputs": [
    {
     "name": "stderr",
     "output_type": "stream",
     "text": [
      "D:\\software\\Anaconda\\envs\\env1\\lib\\site-packages\\torchvision\\datasets\\mnist.py:498: UserWarning: The given NumPy array is not writeable, and PyTorch does not support non-writeable tensors. This means you can write to the underlying (supposedly non-writeable) NumPy array using the tensor. You may want to copy the array to protect its data or make it writeable before converting it to a tensor. This type of warning will be suppressed for the rest of this program. (Triggered internally at  ..\\torch\\csrc\\utils\\tensor_numpy.cpp:180.)\n",
      "  return torch.from_numpy(parsed.astype(m[2], copy=False)).view(*s)\n"
     ]
    }
   ],
   "source": [
    "import torch\n",
    "from torchvision import datasets\n",
    "from torchvision.transforms import ToTensor, Lambda\n",
    "\n",
    "ds = datasets.FashionMNIST(\n",
    "    root=\"data\",\n",
    "    train=True,\n",
    "    download=True,\n",
    "    transform=ToTensor(),\n",
    "    #将1写到index=y的位置上\n",
    "    target_transform=Lambda(lambda y: torch.zeros(10, dtype=torch.float).scatter_(0, torch.tensor(y), value=1))\n",
    ")"
   ]
  },
  {
   "cell_type": "markdown",
   "metadata": {},
   "source": [
    "Further Reading:https://pytorch.org/vision/stable/transforms.html"
   ]
  }
 ],
 "metadata": {
  "kernelspec": {
   "display_name": "Python 3",
   "language": "python",
   "name": "python3"
  },
  "language_info": {
   "codemirror_mode": {
    "name": "ipython",
    "version": 3
   },
   "file_extension": ".py",
   "mimetype": "text/x-python",
   "name": "python",
   "nbconvert_exporter": "python",
   "pygments_lexer": "ipython3",
   "version": "3.6.5"
  }
 },
 "nbformat": 4,
 "nbformat_minor": 2
}

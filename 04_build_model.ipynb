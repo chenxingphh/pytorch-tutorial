{
 "cells": [
  {
   "cell_type": "code",
   "execution_count": null,
   "metadata": {},
   "outputs": [],
   "source": [
    "'''\n",
    "@Author: Haihui Pan\n",
    "@Date: 2021-11-4\n",
    "@Ref: https://pytorch.org/tutorials/beginner/basics/buildmodel_tutorial.html\n",
    "'''"
   ]
  },
  {
   "cell_type": "markdown",
   "metadata": {},
   "source": [
    "* 神经网络由一系列的对数据进行操作的Layer或module组成。***torch.nn***提供了构建神经网络所需要的所有模块。在Pytorch中，每一个模块都是***nn.Module***的子类。神经网络本身也是一个模块，由其他模块（如Layer）组成。\n",
    "\n",
    "* Pytorch的nn提供常见的Layer,Loss: https://pytorch.org/docs/stable/nn.html"
   ]
  },
  {
   "cell_type": "markdown",
   "metadata": {},
   "source": [
    "## NN for FashionMNIST"
   ]
  },
  {
   "cell_type": "code",
   "execution_count": 1,
   "metadata": {},
   "outputs": [],
   "source": [
    "import os\n",
    "import torch\n",
    "from torch import nn\n",
    "from torch.utils.data import DataLoader\n",
    "from torchvision import datasets,transforms"
   ]
  },
  {
   "cell_type": "code",
   "execution_count": 2,
   "metadata": {},
   "outputs": [
    {
     "name": "stdout",
     "output_type": "stream",
     "text": [
      "using cpu\n"
     ]
    }
   ],
   "source": [
    "#配置gpu或cpu环境\n",
    "device= \"gpu\" if torch.cuda.is_available() else \"cpu\"\n",
    "print('using {} ...'.format(device))"
   ]
  },
  {
   "cell_type": "markdown",
   "metadata": {},
   "source": [
    "## 创建模型"
   ]
  },
  {
   "cell_type": "code",
   "execution_count": 7,
   "metadata": {},
   "outputs": [],
   "source": [
    "class NeuralNetwork(nn.Module):\n",
    "    def __init__(self):\n",
    "        super(NeuralNetwork,self).__init__()\n",
    "        \n",
    "        #模型所需要的Layer在构造函数中进行创建\n",
    "        self.flatten=nn.Flatten()\n",
    "        \n",
    "        self.linear_relu_stack=nn.Sequential(\n",
    "            nn.Linear(28*28,512),\n",
    "            nn.ReLU(),\n",
    "            nn.Linear(512,512),\n",
    "            nn.ReLU(),\n",
    "            nn.Linear(512,10),)\n",
    "        \n",
    "    def forward(self,x):\n",
    "        x=self.flatten(x)\n",
    "        logits=self.linear_relu_stack(x)\n",
    "        return logits\n"
   ]
  },
  {
   "cell_type": "code",
   "execution_count": 8,
   "metadata": {},
   "outputs": [
    {
     "name": "stdout",
     "output_type": "stream",
     "text": [
      "NeuralNetwork(\n",
      "  (flatten): Flatten(start_dim=1, end_dim=-1)\n",
      "  (linear_relu_stack): Sequential(\n",
      "    (0): Linear(in_features=784, out_features=512, bias=True)\n",
      "    (1): ReLU()\n",
      "    (2): Linear(in_features=512, out_features=512, bias=True)\n",
      "    (3): ReLU()\n",
      "    (4): Linear(in_features=512, out_features=10, bias=True)\n",
      "  )\n",
      ")\n"
     ]
    }
   ],
   "source": [
    "#创建模型的实例,将模型移动到对应设备上\n",
    "model=NeuralNetwork().to(device)\n",
    "\n",
    "#打印模型结构\n",
    "print(model)"
   ]
  },
  {
   "cell_type": "code",
   "execution_count": 9,
   "metadata": {},
   "outputs": [
    {
     "name": "stdout",
     "output_type": "stream",
     "text": [
      "Layer:linear_relu_stack.0.weight, Size:torch.Size([512, 784])\n",
      "Layer:linear_relu_stack.0.bias, Size:torch.Size([512])\n",
      "Layer:linear_relu_stack.2.weight, Size:torch.Size([512, 512])\n",
      "Layer:linear_relu_stack.2.bias, Size:torch.Size([512])\n",
      "Layer:linear_relu_stack.4.weight, Size:torch.Size([10, 512])\n",
      "Layer:linear_relu_stack.4.bias, Size:torch.Size([10])\n"
     ]
    }
   ],
   "source": [
    "#遍历模型参数\n",
    "for name,param in model.named_parameters():\n",
    "    print(f'Layer:{name}, Size:{param.size()}')"
   ]
  },
  {
   "cell_type": "code",
   "execution_count": null,
   "metadata": {},
   "outputs": [],
   "source": []
  }
 ],
 "metadata": {
  "kernelspec": {
   "display_name": "Python 3",
   "language": "python",
   "name": "python3"
  },
  "language_info": {
   "codemirror_mode": {
    "name": "ipython",
    "version": 3
   },
   "file_extension": ".py",
   "mimetype": "text/x-python",
   "name": "python",
   "nbconvert_exporter": "python",
   "pygments_lexer": "ipython3",
   "version": "3.6.5"
  }
 },
 "nbformat": 4,
 "nbformat_minor": 2
}
